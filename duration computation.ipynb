{
 "cells": [
  {
   "cell_type": "code",
   "execution_count": 1,
   "id": "dbaddbc8",
   "metadata": {},
   "outputs": [
    {
     "name": "stdout",
     "output_type": "stream",
     "text": [
      "PV of Full Price 108.6378\n"
     ]
    }
   ],
   "source": [
    "import numpy as np\n",
    "import pandas as pd\n",
    "d0 = pd.to_datetime('2021-9-18')  #Last Coupon Date\n",
    "d1 = pd.to_datetime('2021-11-3')  #Pricing Date\n",
    "d2 = pd.to_datetime('2022-9-18')  #Next Coupon Date\n",
    "dt=(d2-d1).days  #Days of Next Coupon Date minus Pricing Date\n",
    "TS0=(d2-d0).days  #Days of Next Coupon Date minus Last Coupon Date\n",
    "\n",
    "#Full Price\n",
    "'''Function of Full Price\n",
    "    y:YTM\n",
    "    C:Annual Coupon Payment；\n",
    "    f:Coupon Frequency；\n",
    "    d:dt；\n",
    "    n:Times of coupon payments bewteen Pricing Date and Maturity；\n",
    "    M:Par Value;\n",
    "    TS:Days of Next Coupon Date minus Last Coupon Date。'''\n",
    "def Bond_price(y,C,f,d,n,M,TS):\n",
    "    import numpy as np\n",
    "    coupon=[]\n",
    "    for i in np.arange(0,n):\n",
    "       coupon.append((C/f)/pow(1+y/f,d/TS+i))\n",
    "    return np.sum(coupon)+M/pow(1+y/f,d/TS+n-1)\n",
    "\n",
    "Bondprice=Bond_price(y=0.02569029,C=6.875,f=1,d=dt,n=2,M=100,TS=TS0)\n",
    "print('PV of Full Price',np.round(Bondprice,4))"
   ]
  },
  {
   "cell_type": "code",
   "execution_count": 3,
   "id": "ee3d25e9",
   "metadata": {},
   "outputs": [
    {
     "name": "stdout",
     "output_type": "stream",
     "text": [
      "DatetimeIndex(['2022-09-18', '2023-09-18'], dtype='datetime64[ns]', freq=None)\n",
      "        date       year  cashflow  discountcashflow    weight  weight_mul_year\n",
      "0 2021-11-03        0.0     0.000          0.000000  0.000000         0.000000\n",
      "1 2022-09-18   0.871585     6.875          6.724265  0.061896         0.053948\n",
      "2 2023-09-18   1.871585   106.875        101.913564  0.938104         1.755741\n",
      "3 2021-11-03  summation   113.750        108.637828  1.000000         1.809689\n"
     ]
    }
   ],
   "source": [
    "y=0.02569029 \n",
    "C=6.875 \n",
    "f=1    \n",
    "d=dt  \n",
    "n=2   \n",
    "M=100  \n",
    "TS=TS0 \n",
    "#d0 = pd.to_datetime('2019-11-22') \n",
    "#d1 = pd.to_datetime('2020-1-10') \n",
    "\n",
    "#Generate Discount Flow\n",
    "import numpy as np\n",
    "cashflow=[]\n",
    "discountcashflow=[]\n",
    "for i in np.arange(0,n):\n",
    "    discountcashflow.append((C/f)/pow(1+y/f,d/TS+i))\n",
    "    cashflow.append(C/f)       \n",
    "discountcashflow[n-1]=discountcashflow[n-1]+M/pow(1+y/f,d/TS+n-1)\n",
    "cashflow[n-1]=cashflow[n-1]+M\n",
    "\n",
    "#Cash Flow Date\n",
    "import datetime\n",
    "import calendar\n",
    "import math\n",
    "def get_recent_month(dt, months):\n",
    "    month = dt.month - 1 + months\n",
    "    year = math.floor(dt.year + month / 12)\n",
    "    month = month % 12 + 1\n",
    "    day = min(dt.day, calendar.monthrange(year, month)[1])\n",
    "    return str(dt.replace(year=year, month=month, day=day))[:10]\n",
    "\n",
    "#Compute All Next Coupon Date\n",
    "period_list = []\n",
    "date=[]\n",
    "for j in range(1,n+1):\n",
    "    j=j*int(12/f)+1\n",
    "    for i in range(1, j):\n",
    "      period_list.append(get_recent_month(d0, i))\n",
    "    date.append(get_recent_month(d0, j-1))\n",
    "date=pd.to_datetime(date)\n",
    "print (date)\n",
    "\n",
    "#Annual Time bewteen Current and Next Coupon Date\n",
    "t1 = [d] \n",
    "for i in range(len(date)-1):\n",
    "    b = (date[i+1] - date[i]).days\n",
    "    t1.append(b)\n",
    "\n",
    "#Are next few years are leap years?\n",
    "t1[0]=t1[0]/366.0    #If next coupon date is leap year\n",
    "for i in range(1,n):\n",
    "     if date[i].year%4==0:\n",
    "         t1[i]=t1[i]/366\n",
    "     else:\n",
    "         t1[i]=t1[i]/365\n",
    "     t1[i]=t1[i-1]+t1[i]\n",
    "\n",
    "#Generate the table\n",
    "frame1=pd.DataFrame({'date':date,'year':t1,'cashflow':cashflow,\n",
    "                     'discountcashflow':discountcashflow,\n",
    "                     'weight':discountcashflow/Bondprice,\n",
    "                     'weight_mul_year':(np.array(t1)*discountcashflow)/Bondprice,\n",
    "                     })  \n",
    "new=pd.DataFrame({'date':d1,\n",
    "         'year':0,\n",
    "         'cashflow':0,\n",
    "         'discountcashflow':0,\n",
    "         'weight':0,\n",
    "         'weight_mul_year':0,},index=[0])\n",
    "frame1=new.append(frame1,ignore_index=True)   #Date\n",
    "\n",
    "new2=pd.DataFrame({'date':d1,\n",
    "         'year':'summation',\n",
    "         'cashflow':sum(frame1.cashflow),\n",
    "         'discountcashflow':sum(frame1.discountcashflow),\n",
    "         'weight':sum(frame1.weight),\n",
    "         'weight_mul_year':sum(frame1.weight_mul_year)},index=[0])\n",
    "frame2=frame1.append(new2,ignore_index=True)   #Date\n",
    "pd.set_option('display.width', 1000)     #Width of rows\n",
    "pd.set_option('display.max_rows', None)\n",
    "print(frame2)"
   ]
  },
  {
   "cell_type": "code",
   "execution_count": null,
   "id": "ebc14270",
   "metadata": {},
   "outputs": [],
   "source": []
  }
 ],
 "metadata": {
  "kernelspec": {
   "display_name": "Python 3",
   "language": "python",
   "name": "python3"
  },
  "language_info": {
   "codemirror_mode": {
    "name": "ipython",
    "version": 3
   },
   "file_extension": ".py",
   "mimetype": "text/x-python",
   "name": "python",
   "nbconvert_exporter": "python",
   "pygments_lexer": "ipython3",
   "version": "3.9.4"
  }
 },
 "nbformat": 4,
 "nbformat_minor": 5
}
